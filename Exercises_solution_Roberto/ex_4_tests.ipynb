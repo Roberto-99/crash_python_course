{
 "cells": [
  {
   "cell_type": "markdown",
   "id": "42162cbe",
   "metadata": {},
   "source": [
    "The class rational intakes a float or int and approximates it as a the ratio of two numbers up to a given precision, the ratio is given in its maximally simplified form. \n",
    "\n",
    "There are 4 values stored within the class, the original number that was approximated, the numerator and denominator that approximate the original number and the precision.\n",
    "the class is initiated as rational(n,p), where n is the number we want to approximate and p is the precision we want for the approximation. p needs to be larger then 0 (p=0 would be impossible for irrational numbers) and smaller or equal to 1.\n",
    "\n",
    "rational(n,p).p will give the precision of the instance of the class\n",
    "rational(n,p).n will give the original number of the instance of the class\n",
    "rational(n,p).numerator will give the numerator of the instance of the class\n",
    "rational(n,p).deniominator will give the denominator of the instance of the class"
   ]
  },
  {
   "cell_type": "code",
   "execution_count": 1,
   "id": "06591974",
   "metadata": {},
   "outputs": [
    {
     "name": "stdout",
     "output_type": "stream",
     "text": [
      "True\n",
      "True\n",
      "True\n",
      "True\n",
      "True\n",
      "True\n",
      "True\n",
      "True\n",
      "True\n",
      "True\n",
      "True\n",
      "True\n",
      "True\n"
     ]
    }
   ],
   "source": [
    "#Here we run a variety of tests for the accuracy \n",
    "#of the approximation given by the rational class.\n",
    "#The test checks both that the approximation is correct\n",
    "#and that it is maximally simplified. The Test outputs\n",
    "#True if the function is working as expected, False otherwise\n",
    "from ex_4 import rational\n",
    "from ex_3_5 import find_factors\n",
    "def test(r):\n",
    "    in_between=(r.n-r.p<=r.numerator/r.denominator<=r.n+r.p)\n",
    "    factorized=True\n",
    "    fn=find_factors(abs(r.numerator))\n",
    "    fm=find_factors(r.denominator)\n",
    "    try:\n",
    "        fm.remove(1)\n",
    "    except ValueError:\n",
    "        pass\n",
    "    for i in fn:\n",
    "        if i in fm:\n",
    "            factorized=False\n",
    "            \n",
    "    return in_between and factorized\n",
    "print(test(rational(1/192937828191293,0.001)))\n",
    "print(test(rational(32.1334231413414,0.003)))\n",
    "print(test(rational(1/192937828191293)))\n",
    "print(test(rational(1737381891938371/192937828191293,0.002)))\n",
    "print(test(rational(1737381891938371/192937828191293)))\n",
    "print(test(rational(-1737381891938371/192937828191293)))\n",
    "print(test(rational(0.0000233141234431,0.003)))\n",
    "print(test(rational(0)))\n",
    "print(test(rational(-0)))\n",
    "print(test(rational(1737381891938371/192937828191293,1)))\n",
    "print(test(rational(1737381891938371/192937828191293,0.5)))\n",
    "print(test(rational(1)))\n",
    "print(test(rational(100,0.5)))\n",
    "\n"
   ]
  },
  {
   "cell_type": "markdown",
   "id": "e27ecb0e",
   "metadata": {},
   "source": [
    "the following methods have been overloaded and will work on the class:\n",
    "__abs__, __add__, __sub__, __pos__, __neg__, __mul__, __eq__, __gt__, __int__, __float__, __str__, __repr__"
   ]
  },
  {
   "cell_type": "code",
   "execution_count": 3,
   "id": "0da25824",
   "metadata": {},
   "outputs": [
    {
     "name": "stdout",
     "output_type": "stream",
     "text": [
      "True\n",
      "True\n",
      "True\n",
      "True\n",
      "True\n",
      "True\n",
      "True\n",
      "True\n",
      "True\n",
      "True\n",
      "True\n",
      "True\n",
      "True\n"
     ]
    }
   ],
   "source": [
    "#Here we run a variety of tests to check that the overloaded methods all work as they are supposed to\n",
    "#The Test outputs True if the overloaded methods is working as expected, False otherwise\n",
    "def test_o(r):\n",
    "    t=r==r\n",
    "    \n",
    "    t=t and abs(r)==rational(abs(r.n),r.p)\n",
    "    \n",
    "    t=t and int(r)==int(r.n)\n",
    "    \n",
    "    t=t and float(r)==float(r.n)\n",
    "    \n",
    "    o=rational(3.1431,0.003)\n",
    "    \n",
    "    t=t and r+o==rational(r.n+o.n,max(r.p,o.p))\n",
    "    \n",
    "    t=t and r-o==rational(r.n-o.n,max(r.p,o.p))\n",
    "    \n",
    "    t=t and o-r==rational(-r.n+o.n,max(r.p,o.p))\n",
    "    \n",
    "    t=t and r+r==rational(r.n+r.n,r.p)\n",
    "    \n",
    "    t=t and r-r==rational(r.n-r.n,r.p)\n",
    "    \n",
    "    t=t and r*o==rational(r.n*o.n,max(r.p,o.p))\n",
    "    \n",
    "    t=t and r*(-o)==rational(-r.n*o.n,max(r.p,o.p))\n",
    "    \n",
    "    t=t and o*(-r)==rational(-r.n*o.n,max(r.p,o.p))\n",
    "    \n",
    "    t=t and r*r==rational(r.n*r.n,r.p)\n",
    "    \n",
    "    t=t and r*(-r)==rational(-r.n*r.n,r.p)\n",
    "    \n",
    "    t=t and ((r+o)>r or r.numerator==0)\n",
    "    \n",
    "    t=t and (not r>r+o or r.numerator==0)\n",
    "    \n",
    "    t=t and str(r)==str(r.numerator)+\"/\"+str(r.denominator)\n",
    "    if t==False:\n",
    "        print(15)\n",
    "    t=t and repr(r)==\"rational(\"+str(r.n)+\", precision=\"+str(r.p)+\")\"\n",
    "    if t==False:\n",
    "        print(16)\n",
    "    \n",
    "    return t\n",
    "print(test_o(rational(1/192937828191293,0.001)))\n",
    "print(test_o(rational(32.1334231413414,0.003)))\n",
    "print(test_o(rational(1/192937828191293)))\n",
    "print(test_o(rational(1737381891938371/192937828191293,0.002)))\n",
    "print(test_o(rational(1737381891938371/192937828191293)))\n",
    "print(test_o(rational(-1737381891938371/192937828191293)))\n",
    "print(test_o(rational(0.0000233141234431,0.003)))\n",
    "print(test_o(rational(0)))\n",
    "print(test_o(rational(-0)))\n",
    "print(test_o(rational(1737381891938371/192937828191293,1)))\n",
    "print(test_o(rational(1737381891938371/192937828191293,0.5)))\n",
    "print(test_o(rational(1)))\n",
    "print(test_o(rational(100,0.5)))"
   ]
  }
 ],
 "metadata": {
  "kernelspec": {
   "display_name": "Python 3",
   "language": "python",
   "name": "python3"
  },
  "language_info": {
   "codemirror_mode": {
    "name": "ipython",
    "version": 3
   },
   "file_extension": ".py",
   "mimetype": "text/x-python",
   "name": "python",
   "nbconvert_exporter": "python",
   "pygments_lexer": "ipython3",
   "version": "3.8.8"
  }
 },
 "nbformat": 4,
 "nbformat_minor": 5
}
